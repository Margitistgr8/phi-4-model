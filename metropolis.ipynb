{
 "cells": [
  {
   "attachments": {},
   "cell_type": "markdown",
   "metadata": {},
   "source": [
    "Trying HMC in python environment"
   ]
  },
  {
   "attachments": {},
   "cell_type": "markdown",
   "metadata": {},
   "source": []
  },
  {
   "cell_type": "code",
   "execution_count": 1,
   "metadata": {},
   "outputs": [],
   "source": [
    "import numpy as np"
   ]
  },
  {
   "cell_type": "code",
   "execution_count": 2,
   "metadata": {},
   "outputs": [],
   "source": [
    "def action(lattice, params):\n",
    "    neighbor_sum = np.roll(lattice, 1, axis=0)+np.roll(lattice, -1, axis=0)+np.roll(lattice, 1, axis=1)+np.roll(lattice, -1, axis=1)\n",
    "    site_action = -2*params[0]*lattice*neighbor_sum +lattice**2+params[1]*(lattice**2-1)**2\n",
    "    return np.sum(site_action)\n",
    "\n",
    "def hamiltonian(lattice, momentum, params):\n",
    "    return np.sum(momentum**2/2)+action(lattice, params)\n",
    "\n",
    "def derivative_term(lattice, params):\n",
    "    neighbor_sum = np.roll(lattice, 1, axis=0)+np.roll(lattice, -1, axis=0)+np.roll(lattice, 1, axis=1)+np.roll(lattice, -1, axis=1)\n",
    "    return -2*params[0]*neighbor_sum+2*lattice+4*params[1]*lattice*(lattice**2-1)\n",
    "\n",
    "def leap_frog(time_step, lattice, params):\n",
    "    momentum = np.random.normal(size = np.shape(lattice))\n",
    "    old_H = hamiltonian(lattice, momentum, params)\n",
    "    lattice += time_step/2*momentum\n",
    "    momentum -= time_step*derivative_term(lattice, params)\n",
    "    lattice += time_step/2*momentum\n",
    "    new_H = hamiltonian(lattice, momentum, params)\n",
    "    return lattice, new_H-old_H\n",
    "\n",
    "def HMC(time_step, lattice, params):\n",
    "    new_lattice, delta_H = leap_frog(time_step, lattice, params)\n",
    "    \n",
    "    if delta_H<0:\n",
    "        lattice = new_lattice\n",
    "        success = True\n",
    "    else:       \n",
    "        acceptance_ratio = min(1, np.exp(-delta_H))\n",
    "        if np.random.rand() < acceptance_ratio:\n",
    "            lattice = new_lattice\n",
    "            success = True\n",
    "        else:\n",
    "            success = False\n",
    "    return lattice, success\n",
    "    \n",
    "def HMC_experiment(time_step, lattice, params, data_count, thermalize_step):\n",
    "    counter = 0\n",
    "    result = np.zeros((data_count, 3))\n",
    "    for i in range(thermalize_step):\n",
    "        lattice, success = HMC(time_step, lattice, params)\n",
    "    while counter< data_count:\n",
    "        lattice, success = HMC(time_step, lattice, params)\n",
    "        if success == True:\n",
    "            result[counter, :] = [np.mean(lattice), np.mean(lattice**2), np.mean(lattice**4)]\n",
    "            counter+=1\n",
    "    return result"
   ]
  },
  {
   "cell_type": "code",
   "execution_count": 88,
   "metadata": {},
   "outputs": [
    {
     "name": "stdout",
     "output_type": "stream",
     "text": [
      "0.2\n",
      "0.20408163265306123\n",
      "0.20816326530612245\n",
      "0.2122448979591837\n",
      "0.2163265306122449\n",
      "0.22040816326530613\n",
      "0.22448979591836737\n",
      "0.2285714285714286\n",
      "0.2326530612244898\n",
      "0.23673469387755103\n",
      "0.24081632653061225\n",
      "0.2448979591836735\n",
      "0.2489795918367347\n",
      "0.25306122448979596\n",
      "0.2571428571428572\n",
      "0.2612244897959184\n",
      "0.2653061224489796\n",
      "0.2693877551020408\n",
      "0.27346938775510204\n",
      "0.27755102040816326\n",
      "0.28163265306122454\n",
      "0.2857142857142857\n",
      "0.28979591836734697\n",
      "0.2938775510204082\n",
      "0.2979591836734694\n",
      "0.3020408163265306\n",
      "0.30612244897959184\n",
      "0.3102040816326531\n",
      "0.3142857142857143\n",
      "0.31836734693877555\n",
      "0.32244897959183677\n",
      "0.326530612244898\n",
      "0.3306122448979592\n",
      "0.3346938775510204\n",
      "0.33877551020408164\n",
      "0.34285714285714286\n",
      "0.34693877551020413\n",
      "0.3510204081632653\n",
      "0.35510204081632657\n",
      "0.3591836734693878\n",
      "0.363265306122449\n",
      "0.3673469387755102\n",
      "0.37142857142857144\n",
      "0.3755102040816327\n",
      "0.3795918367346939\n",
      "0.38367346938775515\n",
      "0.38775510204081637\n",
      "0.3918367346938776\n",
      "0.3959183673469388\n",
      "0.4\n"
     ]
    }
   ],
   "source": [
    "kappa = np.linspace(0.2, 0.4, 50)\n",
    "lambda_0 =0.2\n",
    "lattice = np.random.rand(64,64)\n",
    "time_step = 0.1\n",
    "data_count = 5000\n",
    "final_result = np.zeros((50, 8))\n",
    "counter = 0\n",
    "for val in kappa:\n",
    "    print(val)\n",
    "    result =  HMC_experiment(time_step, lattice, (val, lambda_0), data_count, 10000)\n",
    "    final_result[counter, :] = [val, lambda_0, *np.mean(result, axis=0), *np.var(result, axis=0)]\n",
    "    counter+=1\n"
   ]
  },
  {
   "cell_type": "code",
   "execution_count": 4,
   "metadata": {},
   "outputs": [
    {
     "name": "stdout",
     "output_type": "stream",
     "text": [
      "0.2\n",
      "0.20408163265306123\n",
      "0.20816326530612245\n"
     ]
    },
    {
     "ename": "KeyboardInterrupt",
     "evalue": "",
     "output_type": "error",
     "traceback": [
      "\u001b[0;31m---------------------------------------------------------------------------\u001b[0m",
      "\u001b[0;31mKeyboardInterrupt\u001b[0m                         Traceback (most recent call last)",
      "Cell \u001b[0;32mIn[4], line 10\u001b[0m\n\u001b[1;32m      8\u001b[0m \u001b[39mfor\u001b[39;00m val \u001b[39min\u001b[39;00m kappa:\n\u001b[1;32m      9\u001b[0m     \u001b[39mprint\u001b[39m(val)\n\u001b[0;32m---> 10\u001b[0m     result \u001b[39m=\u001b[39m  HMC_experiment(time_step, lattice, (val, lambda_0), data_count, \u001b[39m10000\u001b[39;49m)\n\u001b[1;32m     11\u001b[0m     final_result[counter, :] \u001b[39m=\u001b[39m [val, lambda_0, \u001b[39m*\u001b[39mnp\u001b[39m.\u001b[39mmean(result, axis\u001b[39m=\u001b[39m\u001b[39m0\u001b[39m), \u001b[39m*\u001b[39mnp\u001b[39m.\u001b[39mvar(result, axis\u001b[39m=\u001b[39m\u001b[39m0\u001b[39m)]\n\u001b[1;32m     12\u001b[0m     counter\u001b[39m+\u001b[39m\u001b[39m=\u001b[39m\u001b[39m1\u001b[39m\n",
      "Cell \u001b[0;32mIn[2], line 41\u001b[0m, in \u001b[0;36mHMC_experiment\u001b[0;34m(time_step, lattice, params, data_count, thermalize_step)\u001b[0m\n\u001b[1;32m     39\u001b[0m result \u001b[39m=\u001b[39m np\u001b[39m.\u001b[39mzeros((data_count, \u001b[39m3\u001b[39m))\n\u001b[1;32m     40\u001b[0m \u001b[39mfor\u001b[39;00m i \u001b[39min\u001b[39;00m \u001b[39mrange\u001b[39m(thermalize_step):\n\u001b[0;32m---> 41\u001b[0m     lattice, success \u001b[39m=\u001b[39m HMC(time_step, lattice, params)\n\u001b[1;32m     42\u001b[0m \u001b[39mwhile\u001b[39;00m counter\u001b[39m<\u001b[39m data_count:\n\u001b[1;32m     43\u001b[0m     lattice, success \u001b[39m=\u001b[39m HMC(time_step, lattice, params)\n",
      "Cell \u001b[0;32mIn[2], line 23\u001b[0m, in \u001b[0;36mHMC\u001b[0;34m(time_step, lattice, params)\u001b[0m\n\u001b[1;32m     22\u001b[0m \u001b[39mdef\u001b[39;00m \u001b[39mHMC\u001b[39m(time_step, lattice, params):\n\u001b[0;32m---> 23\u001b[0m     new_lattice, delta_H \u001b[39m=\u001b[39m leap_frog(time_step, lattice, params)\n\u001b[1;32m     25\u001b[0m     \u001b[39mif\u001b[39;00m delta_H\u001b[39m<\u001b[39m\u001b[39m0\u001b[39m:\n\u001b[1;32m     26\u001b[0m         lattice \u001b[39m=\u001b[39m new_lattice\n",
      "Cell \u001b[0;32mIn[2], line 19\u001b[0m, in \u001b[0;36mleap_frog\u001b[0;34m(time_step, lattice, params)\u001b[0m\n\u001b[1;32m     17\u001b[0m momentum \u001b[39m-\u001b[39m\u001b[39m=\u001b[39m time_step\u001b[39m*\u001b[39mderivative_term(lattice, params)\n\u001b[1;32m     18\u001b[0m lattice \u001b[39m+\u001b[39m\u001b[39m=\u001b[39m time_step\u001b[39m/\u001b[39m\u001b[39m2\u001b[39m\u001b[39m*\u001b[39mmomentum\n\u001b[0;32m---> 19\u001b[0m new_H \u001b[39m=\u001b[39m hamiltonian(lattice, momentum, params)\n\u001b[1;32m     20\u001b[0m \u001b[39mreturn\u001b[39;00m lattice, new_H\u001b[39m-\u001b[39mold_H\n",
      "Cell \u001b[0;32mIn[2], line 7\u001b[0m, in \u001b[0;36mhamiltonian\u001b[0;34m(lattice, momentum, params)\u001b[0m\n\u001b[1;32m      6\u001b[0m \u001b[39mdef\u001b[39;00m \u001b[39mhamiltonian\u001b[39m(lattice, momentum, params):\n\u001b[0;32m----> 7\u001b[0m     \u001b[39mreturn\u001b[39;00m np\u001b[39m.\u001b[39msum(momentum\u001b[39m*\u001b[39m\u001b[39m*\u001b[39m\u001b[39m2\u001b[39m\u001b[39m/\u001b[39m\u001b[39m2\u001b[39m)\u001b[39m+\u001b[39maction(lattice, params)\n",
      "Cell \u001b[0;32mIn[2], line 4\u001b[0m, in \u001b[0;36maction\u001b[0;34m(lattice, params)\u001b[0m\n\u001b[1;32m      2\u001b[0m neighbor_sum \u001b[39m=\u001b[39m np\u001b[39m.\u001b[39mroll(lattice, \u001b[39m1\u001b[39m, axis\u001b[39m=\u001b[39m\u001b[39m0\u001b[39m)\u001b[39m+\u001b[39mnp\u001b[39m.\u001b[39mroll(lattice, \u001b[39m-\u001b[39m\u001b[39m1\u001b[39m, axis\u001b[39m=\u001b[39m\u001b[39m0\u001b[39m)\u001b[39m+\u001b[39mnp\u001b[39m.\u001b[39mroll(lattice, \u001b[39m1\u001b[39m, axis\u001b[39m=\u001b[39m\u001b[39m1\u001b[39m)\u001b[39m+\u001b[39mnp\u001b[39m.\u001b[39mroll(lattice, \u001b[39m-\u001b[39m\u001b[39m1\u001b[39m, axis\u001b[39m=\u001b[39m\u001b[39m1\u001b[39m)\n\u001b[1;32m      3\u001b[0m site_action \u001b[39m=\u001b[39m \u001b[39m-\u001b[39m\u001b[39m2\u001b[39m\u001b[39m*\u001b[39mparams[\u001b[39m0\u001b[39m]\u001b[39m*\u001b[39mlattice\u001b[39m*\u001b[39mneighbor_sum \u001b[39m+\u001b[39mlattice\u001b[39m*\u001b[39m\u001b[39m*\u001b[39m\u001b[39m2\u001b[39m\u001b[39m+\u001b[39mparams[\u001b[39m1\u001b[39m]\u001b[39m*\u001b[39m(lattice\u001b[39m*\u001b[39m\u001b[39m*\u001b[39m\u001b[39m2\u001b[39m\u001b[39m-\u001b[39m\u001b[39m1\u001b[39m)\u001b[39m*\u001b[39m\u001b[39m*\u001b[39m\u001b[39m2\u001b[39m\n\u001b[0;32m----> 4\u001b[0m \u001b[39mreturn\u001b[39;00m np\u001b[39m.\u001b[39;49msum(site_action)\n",
      "File \u001b[0;32m<__array_function__ internals>:180\u001b[0m, in \u001b[0;36msum\u001b[0;34m(*args, **kwargs)\u001b[0m\n",
      "File \u001b[0;32m~/.local/lib/python3.10/site-packages/numpy/core/fromnumeric.py:2183\u001b[0m, in \u001b[0;36m_sum_dispatcher\u001b[0;34m(a, axis, dtype, out, keepdims, initial, where)\u001b[0m\n\u001b[1;32m   2113\u001b[0m \u001b[39m    \u001b[39m\u001b[39m\"\"\"\u001b[39;00m\n\u001b[1;32m   2114\u001b[0m \u001b[39m    Clip (limit) the values in an array.\u001b[39;00m\n\u001b[1;32m   2115\u001b[0m \n\u001b[0;32m   (...)\u001b[0m\n\u001b[1;32m   2178\u001b[0m \n\u001b[1;32m   2179\u001b[0m \u001b[39m    \"\"\"\u001b[39;00m\n\u001b[1;32m   2180\u001b[0m     \u001b[39mreturn\u001b[39;00m _wrapfunc(a, \u001b[39m'\u001b[39m\u001b[39mclip\u001b[39m\u001b[39m'\u001b[39m, a_min, a_max, out\u001b[39m=\u001b[39mout, \u001b[39m*\u001b[39m\u001b[39m*\u001b[39mkwargs)\n\u001b[0;32m-> 2183\u001b[0m \u001b[39mdef\u001b[39;00m \u001b[39m_sum_dispatcher\u001b[39m(a, axis\u001b[39m=\u001b[39m\u001b[39mNone\u001b[39;00m, dtype\u001b[39m=\u001b[39m\u001b[39mNone\u001b[39;00m, out\u001b[39m=\u001b[39m\u001b[39mNone\u001b[39;00m, keepdims\u001b[39m=\u001b[39m\u001b[39mNone\u001b[39;00m,\n\u001b[1;32m   2184\u001b[0m                     initial\u001b[39m=\u001b[39m\u001b[39mNone\u001b[39;00m, where\u001b[39m=\u001b[39m\u001b[39mNone\u001b[39;00m):\n\u001b[1;32m   2185\u001b[0m     \u001b[39mreturn\u001b[39;00m (a, out)\n\u001b[1;32m   2188\u001b[0m \u001b[39m@array_function_dispatch\u001b[39m(_sum_dispatcher)\n\u001b[1;32m   2189\u001b[0m \u001b[39mdef\u001b[39;00m \u001b[39msum\u001b[39m(a, axis\u001b[39m=\u001b[39m\u001b[39mNone\u001b[39;00m, dtype\u001b[39m=\u001b[39m\u001b[39mNone\u001b[39;00m, out\u001b[39m=\u001b[39m\u001b[39mNone\u001b[39;00m, keepdims\u001b[39m=\u001b[39mnp\u001b[39m.\u001b[39m_NoValue,\n\u001b[1;32m   2190\u001b[0m         initial\u001b[39m=\u001b[39mnp\u001b[39m.\u001b[39m_NoValue, where\u001b[39m=\u001b[39mnp\u001b[39m.\u001b[39m_NoValue):\n",
      "\u001b[0;31mKeyboardInterrupt\u001b[0m: "
     ]
    }
   ],
   "source": [
    "kappa = np.linspace(0.2, 0.4, 50)\n",
    "lambda_0 =0.2\n",
    "lattice = np.random.rand(64,64)\n",
    "time_step = 0.1\n",
    "data_count = 5000\n",
    "final_result = np.zeros((50, 8))\n",
    "counter = 0\n",
    "for val in kappa:\n",
    "    print(val)\n",
    "    result =  HMC_experiment(time_step, lattice, (val, lambda_0), data_count, 10000)\n",
    "    final_result[counter, :] = [val, lambda_0, *np.mean(result, axis=0), *np.var(result, axis=0)]\n",
    "    counter+=1\n"
   ]
  },
  {
   "cell_type": "code",
   "execution_count": 5,
   "metadata": {},
   "outputs": [
    {
     "name": "stdout",
     "output_type": "stream",
     "text": [
      "lambda value is given 0.1\n"
     ]
    },
    {
     "ename": "KeyboardInterrupt",
     "evalue": "",
     "output_type": "error",
     "traceback": [
      "\u001b[0;31m---------------------------------------------------------------------------\u001b[0m",
      "\u001b[0;31mKeyboardInterrupt\u001b[0m                         Traceback (most recent call last)",
      "Cell \u001b[0;32mIn[5], line 8\u001b[0m\n\u001b[1;32m      6\u001b[0m counter \u001b[39m=\u001b[39m \u001b[39m0\u001b[39m\n\u001b[1;32m      7\u001b[0m \u001b[39mfor\u001b[39;00m val_2 \u001b[39min\u001b[39;00m kappa:\n\u001b[0;32m----> 8\u001b[0m     result \u001b[39m=\u001b[39m  HMC_experiment(time_step, lattice, (val_2, val_1), data_count,  \u001b[39m10000\u001b[39;49m)\n\u001b[1;32m      9\u001b[0m     final_result[counter, :] \u001b[39m=\u001b[39m [val_2, val_1, \u001b[39m*\u001b[39mnp\u001b[39m.\u001b[39mmean(result, axis\u001b[39m=\u001b[39m\u001b[39m0\u001b[39m), \u001b[39m*\u001b[39mnp\u001b[39m.\u001b[39mvar(result, axis\u001b[39m=\u001b[39m\u001b[39m0\u001b[39m)]\n\u001b[1;32m     10\u001b[0m     counter\u001b[39m+\u001b[39m\u001b[39m=\u001b[39m\u001b[39m1\u001b[39m\n",
      "Cell \u001b[0;32mIn[2], line 43\u001b[0m, in \u001b[0;36mHMC_experiment\u001b[0;34m(time_step, lattice, params, data_count, thermalize_step)\u001b[0m\n\u001b[1;32m     41\u001b[0m     lattice, success \u001b[39m=\u001b[39m HMC(time_step, lattice, params)\n\u001b[1;32m     42\u001b[0m \u001b[39mwhile\u001b[39;00m counter\u001b[39m<\u001b[39m data_count:\n\u001b[0;32m---> 43\u001b[0m     lattice, success \u001b[39m=\u001b[39m HMC(time_step, lattice, params)\n\u001b[1;32m     44\u001b[0m     \u001b[39mif\u001b[39;00m success \u001b[39m==\u001b[39m \u001b[39mTrue\u001b[39;00m:\n\u001b[1;32m     45\u001b[0m         result[counter, :] \u001b[39m=\u001b[39m [np\u001b[39m.\u001b[39mmean(lattice), np\u001b[39m.\u001b[39mmean(lattice\u001b[39m*\u001b[39m\u001b[39m*\u001b[39m\u001b[39m2\u001b[39m), np\u001b[39m.\u001b[39mmean(lattice\u001b[39m*\u001b[39m\u001b[39m*\u001b[39m\u001b[39m4\u001b[39m)]\n",
      "Cell \u001b[0;32mIn[2], line 23\u001b[0m, in \u001b[0;36mHMC\u001b[0;34m(time_step, lattice, params)\u001b[0m\n\u001b[1;32m     22\u001b[0m \u001b[39mdef\u001b[39;00m \u001b[39mHMC\u001b[39m(time_step, lattice, params):\n\u001b[0;32m---> 23\u001b[0m     new_lattice, delta_H \u001b[39m=\u001b[39m leap_frog(time_step, lattice, params)\n\u001b[1;32m     25\u001b[0m     \u001b[39mif\u001b[39;00m delta_H\u001b[39m<\u001b[39m\u001b[39m0\u001b[39m:\n\u001b[1;32m     26\u001b[0m         lattice \u001b[39m=\u001b[39m new_lattice\n",
      "Cell \u001b[0;32mIn[2], line 14\u001b[0m, in \u001b[0;36mleap_frog\u001b[0;34m(time_step, lattice, params)\u001b[0m\n\u001b[1;32m     13\u001b[0m \u001b[39mdef\u001b[39;00m \u001b[39mleap_frog\u001b[39m(time_step, lattice, params):\n\u001b[0;32m---> 14\u001b[0m     momentum \u001b[39m=\u001b[39m np\u001b[39m.\u001b[39;49mrandom\u001b[39m.\u001b[39;49mnormal(size \u001b[39m=\u001b[39;49m np\u001b[39m.\u001b[39;49mshape(lattice))\n\u001b[1;32m     15\u001b[0m     old_H \u001b[39m=\u001b[39m hamiltonian(lattice, momentum, params)\n\u001b[1;32m     16\u001b[0m     lattice \u001b[39m+\u001b[39m\u001b[39m=\u001b[39m time_step\u001b[39m/\u001b[39m\u001b[39m2\u001b[39m\u001b[39m*\u001b[39mmomentum\n",
      "\u001b[0;31mKeyboardInterrupt\u001b[0m: "
     ]
    }
   ],
   "source": [
    "lambda_0 = np.arange(0.1, 0.9, 0.1)\n",
    "data_count = 5000\n",
    "for val_1 in lambda_0:\n",
    "    print(\"lambda value is given\", val_1)\n",
    "    final_result = np.zeros((50, 8))\n",
    "    counter = 0\n",
    "    for val_2 in kappa:\n",
    "        result =  HMC_experiment(time_step, lattice, (val_2, val_1), data_count,  10000)\n",
    "        final_result[counter, :] = [val_2, val_1, *np.mean(result, axis=0), *np.var(result, axis=0)]\n",
    "        counter+=1\n",
    "    np.savetxt('HMC_data/lambda=%.2f.txt' %val_1, final_result)    "
   ]
  },
  {
   "attachments": {},
   "cell_type": "markdown",
   "metadata": {},
   "source": []
  },
  {
   "cell_type": "code",
   "execution_count": 7,
   "metadata": {},
   "outputs": [],
   "source": [
    "import matplotlib.pyplot as plt\n",
    "from PIL import Image\n",
    "%matplotlib inline"
   ]
  },
  {
   "cell_type": "code",
   "execution_count": 8,
   "metadata": {},
   "outputs": [
    {
     "data": {
      "image/png": "[encoded data removed]",
      "text/plain": [
       "<Figure size 640x480 with 1 Axes>"
      ]
     },
     "metadata": {},
     "output_type": "display_data"
    }
   ],
   "source": [
    "plt.errorbar(kappa, final_result[:, 2]) #yerr = np.sqrt(final_result[:, 3])#\n",
    "plt.savefig(\"test.pdf\")"
   ]
  },
  {
   "cell_type": "code",
   "execution_count": null,
   "metadata": {},
   "outputs": [],
   "source": []
  }
 ],
 "metadata": {
  "kernelspec": {
   "display_name": "Python 3",
   "language": "python",
   "name": "python3"
  },
  "language_info": {
   "codemirror_mode": {
    "name": "ipython",
    "version": 3
   },
   "file_extension": ".py",
   "mimetype": "text/x-python",
   "name": "python",
   "nbconvert_exporter": "python",
   "pygments_lexer": "ipython3",
   "version": "3.10.6"
  },
  "orig_nbformat": 4,
  "vscode": {
   "interpreter": {
    "hash": "916dbcbb3f70747c44a77c7bcd40155683ae19c65e1c03b4aa3499c5328201f1"
   }
  }
 },
 "nbformat": 4,
 "nbformat_minor": 2
}
