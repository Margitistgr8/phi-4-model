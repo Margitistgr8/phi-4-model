{
 "cells": [
  {
   "attachments": {},
   "cell_type": "markdown",
   "metadata": {},
   "source": [
    "Trying HMC in python environment"
   ]
  },
  {
   "attachments": {},
   "cell_type": "markdown",
   "metadata": {},
   "source": []
  },
  {
   "cell_type": "code",
   "execution_count": 3,
   "metadata": {},
   "outputs": [],
   "source": [
    "import numpy as np"
   ]
  },
  {
   "cell_type": "code",
   "execution_count": 48,
   "metadata": {},
   "outputs": [],
   "source": [
    "def action(lattice, params):\n",
    "    neighbor_sum = np.roll(lattice, 1, axis=0)+np.roll(lattice, -1, axis=0)+np.roll(lattice, 1, axis=1)+np.roll(lattice, -1, axis=1)\n",
    "    site_action = -2*params[0]*lattice*neighbor_sum +lattice**2+params[1]*(lattice**2-1)**2\n",
    "    return np.sum(site_action)\n",
    "\n",
    "def hamiltonian(lattice, momentum, params):\n",
    "    return np.sum(momentum**2/2)+action(lattice, params)\n",
    "\n",
    "def derivative_term(lattice, params):\n",
    "    neighbor_sum = np.roll(lattice, 1, axis=0)+np.roll(lattice, -1, axis=0)+np.roll(lattice, 1, axis=1)+np.roll(lattice, -1, axis=1)\n",
    "    return -2*params[0]*neighbor_sum+2*lattice+4*params[1]*lattice*(lattice**2-1)\n",
    "\n",
    "def leap_frog(time_step, lattice, params):\n",
    "    momentum = np.random.normal(size = np.shape(lattice))\n",
    "    old_H = hamiltonian(lattice, momentum, params)\n",
    "    lattice += time_step/2*momentum\n",
    "    momentum -= time_step*derivative_term(lattice, params)\n",
    "    lattice += time_step/2*momentum\n",
    "    new_H = hamiltonian(lattice, momentum, params)\n",
    "    return lattice, new_H-old_H\n",
    "\n",
    "def HMC(time_step, lattice, params):\n",
    "    new_lattice, delta_H = leap_frog(time_step, lattice, params)\n",
    "    \n",
    "    if delta_H<0:\n",
    "        lattice = new_lattice\n",
    "        success = True\n",
    "    else:       \n",
    "        acceptance_ratio = min(1, np.exp(-delta_H))\n",
    "        if np.random.rand() < acceptance_ratio:\n",
    "            lattice = new_lattice\n",
    "            success = True\n",
    "        else:\n",
    "            success = False\n",
    "    return lattice, success\n",
    "    \n",
    "def HMC_experiment(time_step, lattice, params, data_count, thermalize_step):\n",
    "    counter = 0\n",
    "    result = np.zeros((data_count, 3))\n",
    "    for i in range(thermalize_step):\n",
    "        lattice, success = HMC(time_step, lattice, params)\n",
    "    while counter< data_count:\n",
    "        lattice, success = HMC(time_step, lattice, params)\n",
    "        if success == True:\n",
    "            result[counter, :] = [np.mean(lattice), np.mean(lattice**2), np.mean(lattice**4)]\n",
    "            counter+=1\n",
    "    return result"
   ]
  },
  {
   "cell_type": "code",
   "execution_count": 88,
   "metadata": {},
   "outputs": [
    {
     "name": "stdout",
     "output_type": "stream",
     "text": [
      "0.2\n",
      "0.20408163265306123\n",
      "0.20816326530612245\n",
      "0.2122448979591837\n",
      "0.2163265306122449\n",
      "0.22040816326530613\n",
      "0.22448979591836737\n",
      "0.2285714285714286\n",
      "0.2326530612244898\n",
      "0.23673469387755103\n",
      "0.24081632653061225\n",
      "0.2448979591836735\n",
      "0.2489795918367347\n",
      "0.25306122448979596\n",
      "0.2571428571428572\n",
      "0.2612244897959184\n",
      "0.2653061224489796\n",
      "0.2693877551020408\n",
      "0.27346938775510204\n",
      "0.27755102040816326\n",
      "0.28163265306122454\n",
      "0.2857142857142857\n",
      "0.28979591836734697\n",
      "0.2938775510204082\n",
      "0.2979591836734694\n",
      "0.3020408163265306\n",
      "0.30612244897959184\n",
      "0.3102040816326531\n",
      "0.3142857142857143\n",
      "0.31836734693877555\n",
      "0.32244897959183677\n",
      "0.326530612244898\n",
      "0.3306122448979592\n",
      "0.3346938775510204\n",
      "0.33877551020408164\n",
      "0.34285714285714286\n",
      "0.34693877551020413\n",
      "0.3510204081632653\n",
      "0.35510204081632657\n",
      "0.3591836734693878\n",
      "0.363265306122449\n",
      "0.3673469387755102\n",
      "0.37142857142857144\n",
      "0.3755102040816327\n",
      "0.3795918367346939\n",
      "0.38367346938775515\n",
      "0.38775510204081637\n",
      "0.3918367346938776\n",
      "0.3959183673469388\n",
      "0.4\n"
     ]
    }
   ],
   "source": [
    "kappa = np.linspace(0.2, 0.4, 50)\n",
    "lambda_0 =0.2\n",
    "lattice = np.random.rand(64,64)\n",
    "time_step = 0.1\n",
    "data_count = 5000\n",
    "final_result = np.zeros((50, 8))\n",
    "counter = 0\n",
    "for val in kappa:\n",
    "    print(val)\n",
    "    result =  HMC_experiment(time_step, lattice, (val, lambda_0), data_count, 10000)\n",
    "    final_result[counter, :] = [val, lambda_0, *np.mean(result, axis=0), *np.var(result, axis=0)]\n",
    "    counter+=1\n"
   ]
  },
  {
   "cell_type": "code",
   "execution_count": 110,
   "metadata": {},
   "outputs": [
    {
     "name": "stdout",
     "output_type": "stream",
     "text": [
      "0.2\n"
     ]
    },
    {
     "ename": "ValueError",
     "evalue": "operands could not be broadcast together with shapes (5,) (64,64) ",
     "output_type": "error",
     "traceback": [
      "\u001b[0;31m---------------------------------------------------------------------------\u001b[0m",
      "\u001b[0;31mValueError\u001b[0m                                Traceback (most recent call last)",
      "\u001b[1;32m/Users/jinyunlin/SummerSeminar2023/miscellanous /metropolis.ipynb Cell 6\u001b[0m in \u001b[0;36m<cell line: 8>\u001b[0;34m()\u001b[0m\n\u001b[1;32m      <a href='vscode-notebook-cell:/Users/jinyunlin/SummerSeminar2023/miscellanous%20/metropolis.ipynb#X32sZmlsZQ%3D%3D?line=7'>8</a>\u001b[0m \u001b[39mfor\u001b[39;00m val \u001b[39min\u001b[39;00m kappa:\n\u001b[1;32m      <a href='vscode-notebook-cell:/Users/jinyunlin/SummerSeminar2023/miscellanous%20/metropolis.ipynb#X32sZmlsZQ%3D%3D?line=8'>9</a>\u001b[0m     \u001b[39mprint\u001b[39m(val)\n\u001b[0;32m---> <a href='vscode-notebook-cell:/Users/jinyunlin/SummerSeminar2023/miscellanous%20/metropolis.ipynb#X32sZmlsZQ%3D%3D?line=9'>10</a>\u001b[0m     result \u001b[39m=\u001b[39m  HMC_experiment(time_step, lattice, (val, lambda_0), data_count, \u001b[39m10000\u001b[39;49m)\n\u001b[1;32m     <a href='vscode-notebook-cell:/Users/jinyunlin/SummerSeminar2023/miscellanous%20/metropolis.ipynb#X32sZmlsZQ%3D%3D?line=10'>11</a>\u001b[0m     final_result[counter, :] \u001b[39m=\u001b[39m [val, lambda_0, \u001b[39m*\u001b[39mnp\u001b[39m.\u001b[39mmean(result, axis\u001b[39m=\u001b[39m\u001b[39m0\u001b[39m), \u001b[39m*\u001b[39mnp\u001b[39m.\u001b[39mvar(result, axis\u001b[39m=\u001b[39m\u001b[39m0\u001b[39m)]\n\u001b[1;32m     <a href='vscode-notebook-cell:/Users/jinyunlin/SummerSeminar2023/miscellanous%20/metropolis.ipynb#X32sZmlsZQ%3D%3D?line=11'>12</a>\u001b[0m     counter\u001b[39m+\u001b[39m\u001b[39m=\u001b[39m\u001b[39m1\u001b[39m\n",
      "\u001b[1;32m/Users/jinyunlin/SummerSeminar2023/miscellanous /metropolis.ipynb Cell 6\u001b[0m in \u001b[0;36mHMC_experiment\u001b[0;34m(time_step, lattice, params, data_count, thermalize_step)\u001b[0m\n\u001b[1;32m     <a href='vscode-notebook-cell:/Users/jinyunlin/SummerSeminar2023/miscellanous%20/metropolis.ipynb#X32sZmlsZQ%3D%3D?line=38'>39</a>\u001b[0m result \u001b[39m=\u001b[39m np\u001b[39m.\u001b[39mzeros((data_count, \u001b[39m3\u001b[39m))\n\u001b[1;32m     <a href='vscode-notebook-cell:/Users/jinyunlin/SummerSeminar2023/miscellanous%20/metropolis.ipynb#X32sZmlsZQ%3D%3D?line=39'>40</a>\u001b[0m \u001b[39mfor\u001b[39;00m i \u001b[39min\u001b[39;00m \u001b[39mrange\u001b[39m(thermalize_step):\n\u001b[0;32m---> <a href='vscode-notebook-cell:/Users/jinyunlin/SummerSeminar2023/miscellanous%20/metropolis.ipynb#X32sZmlsZQ%3D%3D?line=40'>41</a>\u001b[0m     lattice, success \u001b[39m=\u001b[39m HMC(time_step, lattice, params)\n\u001b[1;32m     <a href='vscode-notebook-cell:/Users/jinyunlin/SummerSeminar2023/miscellanous%20/metropolis.ipynb#X32sZmlsZQ%3D%3D?line=41'>42</a>\u001b[0m \u001b[39mwhile\u001b[39;00m counter\u001b[39m<\u001b[39m data_count:\n\u001b[1;32m     <a href='vscode-notebook-cell:/Users/jinyunlin/SummerSeminar2023/miscellanous%20/metropolis.ipynb#X32sZmlsZQ%3D%3D?line=42'>43</a>\u001b[0m     lattice, success \u001b[39m=\u001b[39m HMC(time_step, lattice, params)\n",
      "\u001b[1;32m/Users/jinyunlin/SummerSeminar2023/miscellanous /metropolis.ipynb Cell 6\u001b[0m in \u001b[0;36mHMC\u001b[0;34m(time_step, lattice, params)\u001b[0m\n\u001b[1;32m     <a href='vscode-notebook-cell:/Users/jinyunlin/SummerSeminar2023/miscellanous%20/metropolis.ipynb#X32sZmlsZQ%3D%3D?line=21'>22</a>\u001b[0m \u001b[39mdef\u001b[39;00m \u001b[39mHMC\u001b[39m(time_step, lattice, params):\n\u001b[0;32m---> <a href='vscode-notebook-cell:/Users/jinyunlin/SummerSeminar2023/miscellanous%20/metropolis.ipynb#X32sZmlsZQ%3D%3D?line=22'>23</a>\u001b[0m     new_lattice, delta_H \u001b[39m=\u001b[39m leap_frog(time_step, lattice, params)\n\u001b[1;32m     <a href='vscode-notebook-cell:/Users/jinyunlin/SummerSeminar2023/miscellanous%20/metropolis.ipynb#X32sZmlsZQ%3D%3D?line=24'>25</a>\u001b[0m     \u001b[39mif\u001b[39;00m delta_H\u001b[39m<\u001b[39m\u001b[39m0\u001b[39m:\n\u001b[1;32m     <a href='vscode-notebook-cell:/Users/jinyunlin/SummerSeminar2023/miscellanous%20/metropolis.ipynb#X32sZmlsZQ%3D%3D?line=25'>26</a>\u001b[0m         lattice \u001b[39m=\u001b[39m new_lattice\n",
      "\u001b[1;32m/Users/jinyunlin/SummerSeminar2023/miscellanous /metropolis.ipynb Cell 6\u001b[0m in \u001b[0;36mleap_frog\u001b[0;34m(time_step, lattice, params)\u001b[0m\n\u001b[1;32m     <a href='vscode-notebook-cell:/Users/jinyunlin/SummerSeminar2023/miscellanous%20/metropolis.ipynb#X32sZmlsZQ%3D%3D?line=12'>13</a>\u001b[0m \u001b[39mdef\u001b[39;00m \u001b[39mleap_frog\u001b[39m(time_step, lattice, params):\n\u001b[1;32m     <a href='vscode-notebook-cell:/Users/jinyunlin/SummerSeminar2023/miscellanous%20/metropolis.ipynb#X32sZmlsZQ%3D%3D?line=13'>14</a>\u001b[0m     momentum \u001b[39m=\u001b[39m np\u001b[39m.\u001b[39mrandom\u001b[39m.\u001b[39mnormal(size \u001b[39m=\u001b[39m np\u001b[39m.\u001b[39mshape(lattice))\n\u001b[0;32m---> <a href='vscode-notebook-cell:/Users/jinyunlin/SummerSeminar2023/miscellanous%20/metropolis.ipynb#X32sZmlsZQ%3D%3D?line=14'>15</a>\u001b[0m     old_H \u001b[39m=\u001b[39m hamiltonian(lattice, momentum, params)\n\u001b[1;32m     <a href='vscode-notebook-cell:/Users/jinyunlin/SummerSeminar2023/miscellanous%20/metropolis.ipynb#X32sZmlsZQ%3D%3D?line=15'>16</a>\u001b[0m     lattice \u001b[39m+\u001b[39m\u001b[39m=\u001b[39m time_step\u001b[39m/\u001b[39m\u001b[39m2\u001b[39m\u001b[39m*\u001b[39mmomentum\n\u001b[1;32m     <a href='vscode-notebook-cell:/Users/jinyunlin/SummerSeminar2023/miscellanous%20/metropolis.ipynb#X32sZmlsZQ%3D%3D?line=16'>17</a>\u001b[0m     momentum \u001b[39m-\u001b[39m\u001b[39m=\u001b[39m time_step\u001b[39m*\u001b[39mderivative_term(lattice, params)\n",
      "\u001b[1;32m/Users/jinyunlin/SummerSeminar2023/miscellanous /metropolis.ipynb Cell 6\u001b[0m in \u001b[0;36mhamiltonian\u001b[0;34m(lattice, momentum, params)\u001b[0m\n\u001b[1;32m      <a href='vscode-notebook-cell:/Users/jinyunlin/SummerSeminar2023/miscellanous%20/metropolis.ipynb#X32sZmlsZQ%3D%3D?line=5'>6</a>\u001b[0m \u001b[39mdef\u001b[39;00m \u001b[39mhamiltonian\u001b[39m(lattice, momentum, params):\n\u001b[0;32m----> <a href='vscode-notebook-cell:/Users/jinyunlin/SummerSeminar2023/miscellanous%20/metropolis.ipynb#X32sZmlsZQ%3D%3D?line=6'>7</a>\u001b[0m     \u001b[39mreturn\u001b[39;00m np\u001b[39m.\u001b[39msum(momentum\u001b[39m*\u001b[39m\u001b[39m*\u001b[39m\u001b[39m2\u001b[39m\u001b[39m/\u001b[39m\u001b[39m2\u001b[39m)\u001b[39m+\u001b[39maction(lattice, params)\n",
      "\u001b[1;32m/Users/jinyunlin/SummerSeminar2023/miscellanous /metropolis.ipynb Cell 6\u001b[0m in \u001b[0;36maction\u001b[0;34m(lattice, params)\u001b[0m\n\u001b[1;32m      <a href='vscode-notebook-cell:/Users/jinyunlin/SummerSeminar2023/miscellanous%20/metropolis.ipynb#X32sZmlsZQ%3D%3D?line=0'>1</a>\u001b[0m \u001b[39mdef\u001b[39;00m \u001b[39maction\u001b[39m(lattice, params):\n\u001b[1;32m      <a href='vscode-notebook-cell:/Users/jinyunlin/SummerSeminar2023/miscellanous%20/metropolis.ipynb#X32sZmlsZQ%3D%3D?line=1'>2</a>\u001b[0m     neighbor_sum \u001b[39m=\u001b[39m np\u001b[39m.\u001b[39mroll(lattice, \u001b[39m1\u001b[39m, axis\u001b[39m=\u001b[39m\u001b[39m0\u001b[39m)\u001b[39m+\u001b[39mnp\u001b[39m.\u001b[39mroll(lattice, \u001b[39m-\u001b[39m\u001b[39m1\u001b[39m, axis\u001b[39m=\u001b[39m\u001b[39m0\u001b[39m)\u001b[39m+\u001b[39mnp\u001b[39m.\u001b[39mroll(lattice, \u001b[39m1\u001b[39m, axis\u001b[39m=\u001b[39m\u001b[39m1\u001b[39m)\u001b[39m+\u001b[39mnp\u001b[39m.\u001b[39mroll(lattice, \u001b[39m-\u001b[39m\u001b[39m1\u001b[39m, axis\u001b[39m=\u001b[39m\u001b[39m1\u001b[39m)\n\u001b[0;32m----> <a href='vscode-notebook-cell:/Users/jinyunlin/SummerSeminar2023/miscellanous%20/metropolis.ipynb#X32sZmlsZQ%3D%3D?line=2'>3</a>\u001b[0m     site_action \u001b[39m=\u001b[39m \u001b[39m-\u001b[39m\u001b[39m2\u001b[39m\u001b[39m*\u001b[39mparams[\u001b[39m0\u001b[39m]\u001b[39m*\u001b[39mlattice\u001b[39m*\u001b[39mneighbor_sum \u001b[39m+\u001b[39mlattice\u001b[39m*\u001b[39m\u001b[39m*\u001b[39m\u001b[39m2\u001b[39m\u001b[39m+\u001b[39mparams[\u001b[39m1\u001b[39;49m]\u001b[39m*\u001b[39;49m(lattice\u001b[39m*\u001b[39;49m\u001b[39m*\u001b[39;49m\u001b[39m2\u001b[39;49m\u001b[39m-\u001b[39;49m\u001b[39m1\u001b[39;49m)\u001b[39m*\u001b[39;49m\u001b[39m*\u001b[39;49m\u001b[39m2\u001b[39;49m\n\u001b[1;32m      <a href='vscode-notebook-cell:/Users/jinyunlin/SummerSeminar2023/miscellanous%20/metropolis.ipynb#X32sZmlsZQ%3D%3D?line=3'>4</a>\u001b[0m     \u001b[39mreturn\u001b[39;00m np\u001b[39m.\u001b[39msum(site_action)\n",
      "\u001b[0;31mValueError\u001b[0m: operands could not be broadcast together with shapes (5,) (64,64) "
     ]
    }
   ],
   "source": [
    "kappa = np.linspace(0.2, 0.4, 50)\n",
    "lambda_0 =0.2\n",
    "lattice = np.random.rand(64,64)\n",
    "time_step = 0.1\n",
    "data_count = 5000\n",
    "final_result = np.zeros((50, 8))\n",
    "counter = 0\n",
    "for val in kappa:\n",
    "    print(val)\n",
    "    result =  HMC_experiment(time_step, lattice, (val, lambda_0), data_count, 10000)\n",
    "    final_result[counter, :] = [val, lambda_0, *np.mean(result, axis=0), *np.var(result, axis=0)]\n",
    "    counter+=1\n"
   ]
  },
  {
   "cell_type": "code",
   "execution_count": 109,
   "metadata": {},
   "outputs": [
    {
     "name": "stdout",
     "output_type": "stream",
     "text": [
      "lambda value is given 1\n",
      "lambda value is given 2\n",
      "lambda value is given 3\n",
      "lambda value is given 4\n",
      "lambda value is given 5\n",
      "lambda value is given 6\n",
      "lambda value is given 7\n",
      "lambda value is given 8\n",
      "lambda value is given 9\n"
     ]
    }
   ],
   "source": [
    "lambda_0 = np.arange(0.1, 0.9, 0.1)\n",
    "data_count = 5000\n",
    "for val_1 in lambda_0:\n",
    "    print(\"lambda value is given\", val_1)\n",
    "    final_result = np.zeros((50, 8))\n",
    "    counter = 0\n",
    "    for val_2 in kappa:\n",
    "        result =  HMC_experiment(time_step, lattice, (val_2, val_1), data_count,  10000)\n",
    "        final_result[counter, :] = [val_2, val_1, *np.mean(result, axis=0), *np.var(result, axis=0)]\n",
    "        counter+=1\n",
    "    np.savetxt('lambda=%.2f.txt' %val_1, final_result)    "
   ]
  },
  {
   "attachments": {},
   "cell_type": "markdown",
   "metadata": {},
   "source": []
  },
  {
   "cell_type": "code",
   "execution_count": 89,
   "metadata": {},
   "outputs": [],
   "source": [
    "import matplotlib.pyplot as plt\n",
    "from PIL import Image\n",
    "%matplotlib inline"
   ]
  },
  {
   "cell_type": "code",
   "execution_count": 101,
   "metadata": {},
   "outputs": [
    {
     "data": {
      "image/png": "[encoded data removed]",
      "text/plain": [
       "<Figure size 432x288 with 1 Axes>"
      ]
     },
     "metadata": {
      "needs_background": "light"
     },
     "output_type": "display_data"
    }
   ],
   "source": [
    "plt.errorbar(kappa, final_result[:, 2]) #yerr = np.sqrt(final_result[:, 3])#\n",
    "plt.savefig(\"test.pdf\")"
   ]
  },
  {
   "cell_type": "code",
   "execution_count": null,
   "metadata": {},
   "outputs": [],
   "source": []
  }
 ],
 "metadata": {
  "kernelspec": {
   "display_name": "base",
   "language": "python",
   "name": "python3"
  },
  "language_info": {
   "codemirror_mode": {
    "name": "ipython",
    "version": 3
   },
   "file_extension": ".py",
   "mimetype": "text/x-python",
   "name": "python",
   "nbconvert_exporter": "python",
   "pygments_lexer": "ipython3",
   "version": "3.9.7"
  },
  "orig_nbformat": 4
 },
 "nbformat": 4,
 "nbformat_minor": 2
}
